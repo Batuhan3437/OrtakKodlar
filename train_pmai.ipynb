{
 "cells": [
  {
   "cell_type": "markdown",
   "id": "2ec4bfeb-e430-41cc-b6e1-428fb5746ccc",
   "metadata": {},
   "source": [
    "# 1. Gerekli Kütüphanelerin İçe Aktarılması\n",
    "İlk hücrede gerekli kütüphaneleri içeri aktaralım."
   ]
  },
  {
   "cell_type": "code",
   "execution_count": 1,
   "id": "04226152-bebd-43ea-8278-96e58478532f",
   "metadata": {},
   "outputs": [],
   "source": [
    "import os\n",
    "import torch\n",
    "import torchvision.transforms as transforms\n",
    "from torchvision import models\n",
    "from torch.utils.data import DataLoader, random_split, Dataset\n",
    "from PIL import Image\n",
    "import glob\n",
    "import torch.nn as nn\n",
    "import torch.optim as optim\n",
    "# from tqdm import tqdm  # İlerleme çubuğu için\n",
    "from tqdm.notebook import tqdm  # Jupyter için özel tqdm\n"
   ]
  },
  {
   "cell_type": "markdown",
   "id": "ebd8d351-7e8f-4a8b-97e0-a7cdcd8271c6",
   "metadata": {},
   "source": [
    "# 2. CUDA ve Cihaz Seçimi\n",
    "Bir sonraki hücrede cihaz (GPU/CPU) seçimini yapalım."
   ]
  },
  {
   "cell_type": "code",
   "execution_count": 2,
   "id": "cc798f24-52bc-4af5-9d67-f9b36dac901e",
   "metadata": {},
   "outputs": [
    {
     "name": "stdout",
     "output_type": "stream",
     "text": [
      "Using device: cuda\n"
     ]
    }
   ],
   "source": [
    "# CUDA ayarı\n",
    "device = torch.device(\"cuda\" if torch.cuda.is_available() else \"cpu\")\n",
    "print(f\"Using device: {device}\")"
   ]
  },
  {
   "cell_type": "markdown",
   "id": "f4b822c7-5aff-4fe7-adf9-1105b6c44eaa",
   "metadata": {},
   "source": [
    "# 3. Özel Dataset Sınıfının Tanımlanması\n",
    "Bu hücrede bitki hastalıkları verisi için özel Dataset sınıfını tanımlayalım."
   ]
  },
  {
   "cell_type": "code",
   "execution_count": 3,
   "id": "b5e50d0d-1f35-4524-a535-8a0d18634468",
   "metadata": {},
   "outputs": [],
   "source": [
    "# Özel Dataset Sınıfı\n",
    "class PlantDiseaseDataset(Dataset):\n",
    "    def __init__(self, root_dir, transform=None):\n",
    "        self.root_dir = root_dir\n",
    "        self.transform = transform\n",
    "        self.image_paths = []\n",
    "        self.labels = []\n",
    "        self.classes = sorted(os.listdir(root_dir))\n",
    "        self.class_to_idx = {cls: idx for idx, cls in enumerate(self.classes)}\n",
    "        \n",
    "        for class_name in self.classes:\n",
    "            class_path = os.path.join(root_dir, class_name)\n",
    "            if os.path.isdir(class_path):\n",
    "                for ext in ['jpg', 'png', 'jpeg']:\n",
    "                    for img_path in glob.glob(f\"{class_path}/*.{ext}\"):\n",
    "                        self.image_paths.append(img_path)\n",
    "                        self.labels.append(self.class_to_idx[class_name])\n",
    "                \n",
    "    def __len__(self):\n",
    "        return len(self.image_paths)\n",
    "    \n",
    "    def __getitem__(self, idx):\n",
    "        img_path = self.image_paths[idx]\n",
    "        label = self.labels[idx]\n",
    "        image = Image.open(img_path).convert('RGB')\n",
    "        if self.transform:\n",
    "            image = self.transform(image)\n",
    "        return image.to(device), torch.tensor(label, dtype=torch.long, device=device)"
   ]
  },
  {
   "cell_type": "markdown",
   "id": "de4fe5f1-6279-44e5-be3b-7e1501a56522",
   "metadata": {},
   "source": [
    "# 4. Veri Yükleme ve Dönüştürme\n",
    "Bu hücrede, verileri yüklemek ve gerekli dönüşümleri uygulamak için ayarları yapalım."
   ]
  },
  {
   "cell_type": "code",
   "execution_count": 4,
   "id": "ecce3aa6-2df0-42c6-b199-b1141799dc62",
   "metadata": {},
   "outputs": [],
   "source": [
    "# Veri Yükleme ve Transform\n",
    "root_dir = r\"D:\\Projeler\\UniversiteProjeler\\PlantMasterAI\\PlantMaster_Veriler\\BIRLESTIRILMIS\\VeriSetOrj224\\veri_seti_yeni\"\n",
    "transform = transforms.Compose([\n",
    "    transforms.Resize((224, 224)),\n",
    "    transforms.ToTensor(),\n",
    "    transforms.Normalize(mean=[0.485, 0.456, 0.406], std=[0.229, 0.224, 0.225])\n",
    "])\n",
    "\n",
    "dataset = PlantDiseaseDataset(root_dir, transform=transform)"
   ]
  },
  {
   "cell_type": "markdown",
   "id": "691b5455-df82-489f-9996-1b5d839d18d1",
   "metadata": {},
   "source": [
    "# 5. Veri Setini Eğitim ve Doğrulama Olarak Bölme\n",
    "Veri setini eğitim ve doğrulama olarak bölelim."
   ]
  },
  {
   "cell_type": "code",
   "execution_count": 5,
   "id": "216a31f2-2b93-49a5-88f7-dfadec918723",
   "metadata": {},
   "outputs": [],
   "source": [
    "# Train-Val Split\n",
    "train_size = int(0.8 * len(dataset))\n",
    "val_size = len(dataset) - train_size\n",
    "train_dataset, val_dataset = random_split(dataset, [train_size, val_size])\n",
    "\n",
    "# DataLoader'lar\n",
    "train_loader = DataLoader(train_dataset, batch_size=32, shuffle=True, num_workers=4)\n",
    "val_loader = DataLoader(val_dataset, batch_size=32, shuffle=False, num_workers=4)"
   ]
  },
  {
   "cell_type": "markdown",
   "id": "fd9a2b2d-6bb2-4589-818c-16af45727bc5",
   "metadata": {},
   "source": [
    "# 6. Modelin Yüklenmesi ve Son Katmanının Güncellenmesi\n",
    "ResNet50 modelini yükleyip, son katmanını sınıflandırma için uyarlayalım."
   ]
  },
  {
   "cell_type": "code",
   "execution_count": 6,
   "id": "8bbab93a-225c-4558-b90f-1a23f84a82dc",
   "metadata": {},
   "outputs": [
    {
     "name": "stderr",
     "output_type": "stream",
     "text": [
      "C:\\Users\\Bilal\\anaconda3\\envs\\tf_gpu\\lib\\site-packages\\torchvision\\models\\_utils.py:208: UserWarning: The parameter 'pretrained' is deprecated since 0.13 and may be removed in the future, please use 'weights' instead.\n",
      "  warnings.warn(\n",
      "C:\\Users\\Bilal\\anaconda3\\envs\\tf_gpu\\lib\\site-packages\\torchvision\\models\\_utils.py:223: UserWarning: Arguments other than a weight enum or `None` for 'weights' are deprecated since 0.13 and may be removed in the future. The current behavior is equivalent to passing `weights=ResNet50_Weights.IMAGENET1K_V1`. You can also use `weights=ResNet50_Weights.DEFAULT` to get the most up-to-date weights.\n",
      "  warnings.warn(msg)\n"
     ]
    }
   ],
   "source": [
    "# Model\n",
    "model = models.resnet50(pretrained=True).to(device)\n",
    "num_ftrs = model.fc.in_features\n",
    "model.fc = nn.Linear(num_ftrs, len(dataset.classes)).to(device)"
   ]
  },
  {
   "cell_type": "markdown",
   "id": "10b727fa-91a4-4f79-95d5-962f0efba094",
   "metadata": {},
   "source": [
    "# 7. Kaybı ve Optimizasyonu Tanımlama\n",
    "Kayıp fonksiyonunu ve optimizasyonu tanımlayalım."
   ]
  },
  {
   "cell_type": "code",
   "execution_count": 7,
   "id": "4ad15669-0a7b-4c09-9ed8-1d7acdf4fb58",
   "metadata": {},
   "outputs": [],
   "source": [
    "# Loss ve Optimizer\n",
    "criterion = nn.CrossEntropyLoss()\n",
    "optimizer = optim.Adam(model.parameters(), lr=0.001, weight_decay=1e-4)\n",
    "scheduler = optim.lr_scheduler.StepLR(optimizer, step_size=5, gamma=0.5)"
   ]
  },
  {
   "cell_type": "markdown",
   "id": "aefc42f3-aac2-42ae-a1a8-a7cee88c5162",
   "metadata": {},
   "source": [
    "# 8. Eğitim Döngüsü\n",
    "Eğitim döngüsünü başlatalım. Burada hem eğitim hem de doğrulama işlemleri yapılacak."
   ]
  },
  {
   "cell_type": "code",
   "execution_count": null,
   "id": "946ce377-745f-4910-ac8d-d4e49e618ee3",
   "metadata": {},
   "outputs": [
    {
     "data": {
      "application/vnd.jupyter.widget-view+json": {
       "model_id": "17f4df568ba5475db59b9f522c672cd8",
       "version_major": 2,
       "version_minor": 0
      },
      "text/plain": [
       "Epoch 1/20 [Train]:   0%|          | 0/10459 [00:00<?, ?it/s]"
      ]
     },
     "metadata": {},
     "output_type": "display_data"
    }
   ],
   "source": [
    "total_epochs = 20\n",
    "best_val_loss = float('inf')\n",
    "early_stopping_patience = 3\n",
    "patience_counter = 0\n",
    "\n",
    "for epoch in range(total_epochs):\n",
    "    # Eğitim\n",
    "    model.train()\n",
    "    train_progress = tqdm(train_loader, desc=f\"Epoch {epoch+1}/{total_epochs} [Train]\")\n",
    "    running_loss = 0.0\n",
    "    \n",
    "    for images, labels in train_progress:\n",
    "        optimizer.zero_grad()\n",
    "        outputs = model(images)\n",
    "        loss = criterion(outputs, labels)\n",
    "        loss.backward()\n",
    "        optimizer.step()\n",
    "        \n",
    "        running_loss += loss.item()\n",
    "        train_progress.set_postfix({\"Loss\": f\"{loss.item():.4f}\"})  # Anlık loss gösterimi\n",
    "    \n",
    "    # Validasyon\n",
    "    model.eval()\n",
    "    val_loss = 0.0\n",
    "    correct = 0\n",
    "    total = 0\n",
    "    \n",
    "    with torch.no_grad():\n",
    "        val_progress = tqdm(val_loader, desc=f\"Epoch {epoch+1}/{total_epochs} [Val]\", leave=False)\n",
    "        for images, labels in val_progress:\n",
    "            outputs = model(images)\n",
    "            loss = criterion(outputs, labels)\n",
    "            val_loss += loss.item()\n",
    "            \n",
    "            _, predicted = torch.max(outputs, 1)\n",
    "            total += labels.size(0)\n",
    "            correct += (predicted == labels).sum().item()\n",
    "            val_progress.set_postfix({\"Val Loss\": f\"{loss.item():.4f}\"})\n",
    "    \n",
    "    # Epoch Sonu Metrikler\n",
    "    avg_train_loss = running_loss / len(train_loader)\n",
    "    avg_val_loss = val_loss / len(val_loader)\n",
    "    accuracy = 100 * correct / total\n",
    "    \n",
    "    # Konsola Detaylı Çıktı\n",
    "    print(f\"\\nEpoch {epoch+1}/{total_epochs}\")\n",
    "    print(f\"  Train Loss: {avg_train_loss:.4f}\")\n",
    "    print(f\"  Val Loss:   {avg_val_loss:.4f}\")\n",
    "    print(f\"  Accuracy:   {accuracy:.2f}%\")\n",
    "    \n",
    "    # Early Stopping ve Model Kaydetme\n",
    "    if avg_val_loss < best_val_loss:\n",
    "        best_val_loss = avg_val_loss\n",
    "        patience_counter = 0\n",
    "        torch.save(model.state_dict(), \"best_model.pth\")\n",
    "        print(\"  ↪ Yeni en iyi model kaydedildi!\")\n",
    "    else:\n",
    "        patience_counter += 1\n",
    "        if patience_counter >= early_stopping_patience:\n",
    "            print(f\"\\nErken durdurma! Eğitim sonlandırıldı. En iyi Val Loss: {best_val_loss:.4f}\")\n",
    "            break\n",
    "    \n",
    "    scheduler.step()\n"
   ]
  },
  {
   "cell_type": "markdown",
   "id": "34b390d7-278f-4881-ad4e-829d26c83fdb",
   "metadata": {},
   "source": [
    "# 9. Modelin Kaydedilmesi\n",
    "Eğitim sonunda en iyi modelin kaydedilmesi ve eğitimin tamamlanması."
   ]
  },
  {
   "cell_type": "code",
   "execution_count": null,
   "id": "88663d0e-541c-4348-854c-ec8fa2bac674",
   "metadata": {},
   "outputs": [],
   "source": [
    "# Final Model Kaydetme\n",
    "torch.save(model.state_dict(), \"final_model.pth\")\n",
    "print(\"\\nEğitim tamamlandı!\")"
   ]
  }
 ],
 "metadata": {
  "kernelspec": {
   "display_name": "Python 3 (ipykernel)",
   "language": "python",
   "name": "python3"
  },
  "language_info": {
   "codemirror_mode": {
    "name": "ipython",
    "version": 3
   },
   "file_extension": ".py",
   "mimetype": "text/x-python",
   "name": "python",
   "nbconvert_exporter": "python",
   "pygments_lexer": "ipython3",
   "version": "3.10.16"
  }
 },
 "nbformat": 4,
 "nbformat_minor": 5
}
